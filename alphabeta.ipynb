{
 "cells": [
  {
   "metadata": {
    "ExecuteTime": {
     "end_time": "2025-01-11T22:37:42.921896Z",
     "start_time": "2025-01-11T22:37:42.544175Z"
    }
   },
   "cell_type": "code",
   "source": [
    "import shinybroker as sb\n",
    "import numpy as np\n",
    "\n",
    "asset = sb.Contract({\n",
    "    'symbol': \"AAPL\",\n",
    "    'secType': \"STK\",\n",
    "    'exchange': \"SMART\",\n",
    "    'currency': \"USD\"\n",
    "})\n",
    "\n",
    "benchmark = sb.Contract({\n",
    "    'symbol': \"VOO\",\n",
    "    'secType': \"STK\",\n",
    "    'exchange': \"SMART\",\n",
    "    'currency': \"USD\"\n",
    "})\n",
    "\n",
    "def fetch_security_historical_data(security_info):\n",
    "    historical_data = sb.fetch_historical_data(\n",
    "        security_info,\n",
    "        barSizeSetting=\"1 day\",\n",
    "        durationStr=\"1 Y\"\n",
    "    )\n",
    "    return historical_data[\"hst_dta\"][\"close\"]\n",
    "\n",
    "def calculate_geometric_returns(close_prices):\n",
    "    close_prices = np.array(close_prices)\n",
    "    geometric_returns = np.log(close_prices[1:] / close_prices[:-1])\n",
    "    return geometric_returns\n",
    "\n",
    "def calculate_arithmetic_returns(close_prices):\n",
    "    close_prices = np.array(close_prices)\n",
    "    arithmetic_returns = np.diff(close_prices) / close_prices[:-1]\n",
    "    return arithmetic_returns\n",
    "\n",
    "def calculate_beta(asset_return, benchmark_return):\n",
    "    cov = np.cov(asset_return, benchmark_return)\n",
    "    cov_xy = cov[0, 1]\n",
    "    var = np.var(benchmark_return, ddof=1)\n",
    "    beta = cov_xy / var\n",
    "    return beta\n",
    "\n",
    "def calculate_alpha(asset_return, benchmark_return):\n",
    "    mean_asset_return = np.mean(asset_return)\n",
    "    mean_benchmark_return = np.mean(benchmark_return)\n",
    "    beta = calculate_beta(asset_return, benchmark_return)\n",
    "    alpha = mean_asset_return - beta * mean_benchmark_return\n",
    "    return alpha\n",
    "    \n",
    "\n",
    "# Fetch data for both securities\n",
    "asset_close_data = fetch_security_historical_data(asset)\n",
    "benchmark_close_data = fetch_security_historical_data(benchmark)\n",
    "\n",
    "# Calculate the geometric and arithemetic returns \n",
    "asset_geometric_returns = calculate_geometric_returns(asset_close_data)\n",
    "benchmark_geometric_returns = calculate_geometric_returns(benchmark_close_data)\n",
    "asset_arithmetic_returns = calculate_arithmetic_returns(asset_close_data)\n",
    "benchmark_arithmetic_returns = calculate_arithmetic_returns(benchmark_close_data)\n",
    "\n",
    "# Calculate alpha/beta for geometric and arithmetic returns\n",
    "geo_beta = calculate_beta(asset_geometric_returns, benchmark_geometric_returns)\n",
    "geo_alpha = calculate_alpha(asset_geometric_returns, benchmark_geometric_returns)\n",
    "arith_beta = calculate_beta(asset_arithmetic_returns, benchmark_arithmetic_returns)\n",
    "arith_alpha = calculate_alpha(asset_arithmetic_returns, benchmark_arithmetic_returns)\n",
    "\n",
    "print(f\"Arithmetic - alpha: {arith_alpha} | beta: {arith_beta}\")\n",
    "print(f\"Geometric - alpha: {geo_alpha} | beta: {geo_beta}\")\n",
    "\n"
   ],
   "id": "39b135ad981285a3",
   "outputs": [
    {
     "name": "stdout",
     "output_type": "stream",
     "text": [
      "Arithmetic - alpha: 0.00029007582183784473 | beta: 0.9468693295236462\n",
      "Geometric - alpha: 0.0002176871874507788 | beta: 0.9490524305426616\n"
     ]
    }
   ],
   "execution_count": 9
  },
  {
   "metadata": {},
   "cell_type": "code",
   "outputs": [],
   "execution_count": null,
   "source": "",
   "id": "fd096a31d9b542f6"
  }
 ],
 "metadata": {
  "kernelspec": {
   "display_name": "Python 3",
   "language": "python",
   "name": "python3"
  },
  "language_info": {
   "codemirror_mode": {
    "name": "ipython",
    "version": 2
   },
   "file_extension": ".py",
   "mimetype": "text/x-python",
   "name": "python",
   "nbconvert_exporter": "python",
   "pygments_lexer": "ipython2",
   "version": "2.7.6"
  }
 },
 "nbformat": 4,
 "nbformat_minor": 5
}
